{
  "nbformat": 4,
  "nbformat_minor": 0,
  "metadata": {
    "colab": {
      "name": "Copy of Untitled6.ipynb",
      "provenance": [],
      "authorship_tag": "ABX9TyNlPs3VgYqCzww9d5EbYdAL",
      "include_colab_link": true
    },
    "kernelspec": {
      "name": "python3",
      "display_name": "Python 3"
    }
  },
  "cells": [
    {
      "cell_type": "markdown",
      "metadata": {
        "id": "view-in-github",
        "colab_type": "text"
      },
      "source": [
        "<a href=\"https://colab.research.google.com/github/larisa-sukhushina/1-project/blob/master/MNIST.ipynb\" target=\"_parent\"><img src=\"https://colab.research.google.com/assets/colab-badge.svg\" alt=\"Open In Colab\"/></a>"
      ]
    },
    {
      "cell_type": "code",
      "metadata": {
        "id": "_0wyrdAj8YPr",
        "colab_type": "code",
        "colab": {}
      },
      "source": [
        "from tensorflow.keras.datasets import fashion_mnist\n",
        "from tensorflow.keras.models import Sequential\n",
        "from tensorflow.keras.layers import Dense, Dropout\n",
        "from tensorflow.keras import utils\n",
        "from tensorflow.keras.preprocessing import image\n",
        "from google.colab import files\n",
        "import numpy as np\n",
        "import matplotlib.pyplot as plt\n",
        "from PIL import Image\n",
        "%matplotlib inline "
      ],
      "execution_count": 0,
      "outputs": []
    },
    {
      "cell_type": "code",
      "metadata": {
        "id": "VPO4Nvt28apq",
        "colab_type": "code",
        "outputId": "e0d611c8-3f26-4175-f370-4c9d5dc08897",
        "colab": {
          "base_uri": "https://localhost:8080/",
          "height": 153
        }
      },
      "source": [
        "# В Keras встроены средства работы с популярными наборами данных\n",
        "# (x_train, y_train) - набор данных для обучения\n",
        "# (x_test, y_test) - набор данных для тестирования\n",
        "(x_train, y_train), (x_test, y_test) = fashion_mnist.load_data()"
      ],
      "execution_count": 0,
      "outputs": [
        {
          "output_type": "stream",
          "text": [
            "Downloading data from https://storage.googleapis.com/tensorflow/tf-keras-datasets/train-labels-idx1-ubyte.gz\n",
            "32768/29515 [=================================] - 0s 0us/step\n",
            "Downloading data from https://storage.googleapis.com/tensorflow/tf-keras-datasets/train-images-idx3-ubyte.gz\n",
            "26427392/26421880 [==============================] - 0s 0us/step\n",
            "Downloading data from https://storage.googleapis.com/tensorflow/tf-keras-datasets/t10k-labels-idx1-ubyte.gz\n",
            "8192/5148 [===============================================] - 0s 0us/step\n",
            "Downloading data from https://storage.googleapis.com/tensorflow/tf-keras-datasets/t10k-images-idx3-ubyte.gz\n",
            "4423680/4422102 [==============================] - 0s 0us/step\n"
          ],
          "name": "stdout"
        }
      ]
    },
    {
      "cell_type": "code",
      "metadata": {
        "id": "TcYLI75X8d1B",
        "colab_type": "code",
        "colab": {}
      },
      "source": [
        "classes = ['футболка', 'классические брюки', 'свитер', 'платье', 'классическая юбка', 'туфли', 'рубашка', 'кроссовки', 'шорты', 'спортивные брюки']"
      ],
      "execution_count": 0,
      "outputs": []
    },
    {
      "cell_type": "code",
      "metadata": {
        "id": "Q92G0ihF9Oje",
        "colab_type": "code",
        "colab": {}
      },
      "source": [
        "x_train = x_train.reshape(60000, 784)\n",
        "x_test = x_test.reshape(10000, 784)"
      ],
      "execution_count": 0,
      "outputs": []
    },
    {
      "cell_type": "code",
      "metadata": {
        "id": "jCf0uqxy9RgP",
        "colab_type": "code",
        "colab": {}
      },
      "source": [
        "# Векторизованные операции\n",
        "# Применяются к каждому элементу массива отдельно\n",
        "x_train = x_train / 255 \n",
        "x_test = x_test / 255 "
      ],
      "execution_count": 0,
      "outputs": []
    },
    {
      "cell_type": "code",
      "metadata": {
        "id": "Tz00UICK9T5k",
        "colab_type": "code",
        "colab": {}
      },
      "source": [
        "n = 0"
      ],
      "execution_count": 0,
      "outputs": []
    },
    {
      "cell_type": "code",
      "metadata": {
        "id": "o6czV_se9XR7",
        "colab_type": "code",
        "outputId": "c4fca07d-f646-47b2-d15a-7998d0e2ea38",
        "colab": {
          "base_uri": "https://localhost:8080/",
          "height": 34
        }
      },
      "source": [
        "print(y_train[n])"
      ],
      "execution_count": 0,
      "outputs": [
        {
          "output_type": "stream",
          "text": [
            "9\n"
          ],
          "name": "stdout"
        }
      ]
    },
    {
      "cell_type": "code",
      "metadata": {
        "id": "-chospVn9ZC6",
        "colab_type": "code",
        "colab": {}
      },
      "source": [
        "y_train = utils.to_categorical(y_train, 10)"
      ],
      "execution_count": 0,
      "outputs": []
    },
    {
      "cell_type": "code",
      "metadata": {
        "id": "e2aIo01q9bS-",
        "colab_type": "code",
        "colab": {}
      },
      "source": [
        "y_test = utils.to_categorical(y_test, 10)"
      ],
      "execution_count": 0,
      "outputs": []
    },
    {
      "cell_type": "code",
      "metadata": {
        "id": "QkHZ8lRJ9euY",
        "colab_type": "code",
        "outputId": "a7073e4b-6131-4804-d38a-b0e197a5dc9a",
        "colab": {
          "base_uri": "https://localhost:8080/",
          "height": 34
        }
      },
      "source": [
        "print(y_train[n])"
      ],
      "execution_count": 0,
      "outputs": [
        {
          "output_type": "stream",
          "text": [
            "[0. 0. 0. 0. 0. 0. 0. 0. 0. 1.]\n"
          ],
          "name": "stdout"
        }
      ]
    },
    {
      "cell_type": "code",
      "metadata": {
        "id": "zwVMyvmM9g6s",
        "colab_type": "code",
        "colab": {}
      },
      "source": [
        "# Создаем последовательную модель\n",
        "model = Sequential()\n",
        "# Входной полносвязный слой, 800 нейронов, 784 входа в каждый нейрон\n",
        "model.add(Dense(800, input_dim=784, activation=\"relu\"))\n",
        "# Выходной полносвязный слой, 10 нейронов (по количеству рукописных цифр)\n",
        "model.add(Dense(10, activation=\"softmax\"))"
      ],
      "execution_count": 0,
      "outputs": []
    },
    {
      "cell_type": "code",
      "metadata": {
        "id": "E93ARBE6-mvs",
        "colab_type": "code",
        "outputId": "daa59655-4beb-4119-b2b2-d91b7512e96b",
        "colab": {
          "base_uri": "https://localhost:8080/",
          "height": 238
        }
      },
      "source": [
        "model.compile(loss=\"categorical_crossentropy\", optimizer=\"SGD\", metrics=[\"accuracy\"])\n",
        "\n",
        "print(model.summary())"
      ],
      "execution_count": 0,
      "outputs": [
        {
          "output_type": "stream",
          "text": [
            "Model: \"sequential_1\"\n",
            "_________________________________________________________________\n",
            "Layer (type)                 Output Shape              Param #   \n",
            "=================================================================\n",
            "dense_2 (Dense)              (None, 800)               628000    \n",
            "_________________________________________________________________\n",
            "dense_3 (Dense)              (None, 10)                8010      \n",
            "=================================================================\n",
            "Total params: 636,010\n",
            "Trainable params: 636,010\n",
            "Non-trainable params: 0\n",
            "_________________________________________________________________\n",
            "None\n"
          ],
          "name": "stdout"
        }
      ]
    },
    {
      "cell_type": "code",
      "metadata": {
        "id": "0-yCp7Fk_NVj",
        "colab_type": "code",
        "outputId": "63840052-f27b-48bd-9846-4aa685ac7559",
        "colab": {
          "base_uri": "https://localhost:8080/",
          "height": 1000
        }
      },
      "source": [
        "history = model.fit(x_train, y_train, \n",
        "                    batch_size=200, \n",
        "                    epochs=100,\n",
        "                    validation_split=0.2,\n",
        "                    verbose=1)"
      ],
      "execution_count": 0,
      "outputs": [
        {
          "output_type": "stream",
          "text": [
            "Epoch 1/100\n",
            "240/240 [==============================] - 4s 16ms/step - loss: 1.1955 - accuracy: 0.6480 - val_loss: 0.8478 - val_accuracy: 0.7293\n",
            "Epoch 2/100\n",
            "240/240 [==============================] - 4s 16ms/step - loss: 0.7725 - accuracy: 0.7568 - val_loss: 0.7030 - val_accuracy: 0.7708\n",
            "Epoch 3/100\n",
            "240/240 [==============================] - 4s 16ms/step - loss: 0.6706 - accuracy: 0.7888 - val_loss: 0.6330 - val_accuracy: 0.7967\n",
            "Epoch 4/100\n",
            "240/240 [==============================] - 4s 16ms/step - loss: 0.6154 - accuracy: 0.8054 - val_loss: 0.5940 - val_accuracy: 0.8111\n",
            "Epoch 5/100\n",
            "240/240 [==============================] - 4s 16ms/step - loss: 0.5798 - accuracy: 0.8155 - val_loss: 0.5645 - val_accuracy: 0.8170\n",
            "Epoch 6/100\n",
            "240/240 [==============================] - 4s 16ms/step - loss: 0.5541 - accuracy: 0.8213 - val_loss: 0.5429 - val_accuracy: 0.8221\n",
            "Epoch 7/100\n",
            "240/240 [==============================] - 4s 16ms/step - loss: 0.5346 - accuracy: 0.8258 - val_loss: 0.5283 - val_accuracy: 0.8259\n",
            "Epoch 8/100\n",
            "240/240 [==============================] - 4s 16ms/step - loss: 0.5191 - accuracy: 0.8299 - val_loss: 0.5164 - val_accuracy: 0.8287\n",
            "Epoch 9/100\n",
            "240/240 [==============================] - 4s 16ms/step - loss: 0.5060 - accuracy: 0.8332 - val_loss: 0.5045 - val_accuracy: 0.8307\n",
            "Epoch 10/100\n",
            "240/240 [==============================] - 4s 16ms/step - loss: 0.4956 - accuracy: 0.8356 - val_loss: 0.4957 - val_accuracy: 0.8346\n",
            "Epoch 11/100\n",
            "240/240 [==============================] - 4s 16ms/step - loss: 0.4864 - accuracy: 0.8378 - val_loss: 0.4895 - val_accuracy: 0.8343\n",
            "Epoch 12/100\n",
            "240/240 [==============================] - 4s 16ms/step - loss: 0.4784 - accuracy: 0.8408 - val_loss: 0.4806 - val_accuracy: 0.8378\n",
            "Epoch 13/100\n",
            "240/240 [==============================] - 4s 16ms/step - loss: 0.4712 - accuracy: 0.8420 - val_loss: 0.4740 - val_accuracy: 0.8383\n",
            "Epoch 14/100\n",
            "240/240 [==============================] - 4s 16ms/step - loss: 0.4647 - accuracy: 0.8435 - val_loss: 0.4684 - val_accuracy: 0.8416\n",
            "Epoch 15/100\n",
            "240/240 [==============================] - 4s 16ms/step - loss: 0.4590 - accuracy: 0.8448 - val_loss: 0.4631 - val_accuracy: 0.8422\n",
            "Epoch 16/100\n",
            "240/240 [==============================] - 4s 16ms/step - loss: 0.4536 - accuracy: 0.8467 - val_loss: 0.4587 - val_accuracy: 0.8425\n",
            "Epoch 17/100\n",
            "240/240 [==============================] - 4s 16ms/step - loss: 0.4485 - accuracy: 0.8482 - val_loss: 0.4537 - val_accuracy: 0.8443\n",
            "Epoch 18/100\n",
            "240/240 [==============================] - 4s 16ms/step - loss: 0.4441 - accuracy: 0.8496 - val_loss: 0.4517 - val_accuracy: 0.8453\n",
            "Epoch 19/100\n",
            "240/240 [==============================] - 4s 16ms/step - loss: 0.4398 - accuracy: 0.8516 - val_loss: 0.4480 - val_accuracy: 0.8457\n",
            "Epoch 20/100\n",
            "240/240 [==============================] - 4s 16ms/step - loss: 0.4358 - accuracy: 0.8525 - val_loss: 0.4438 - val_accuracy: 0.8478\n",
            "Epoch 21/100\n",
            "240/240 [==============================] - 4s 16ms/step - loss: 0.4318 - accuracy: 0.8544 - val_loss: 0.4410 - val_accuracy: 0.8495\n",
            "Epoch 22/100\n",
            "240/240 [==============================] - 4s 16ms/step - loss: 0.4286 - accuracy: 0.8548 - val_loss: 0.4376 - val_accuracy: 0.8488\n",
            "Epoch 23/100\n",
            "240/240 [==============================] - 4s 16ms/step - loss: 0.4252 - accuracy: 0.8555 - val_loss: 0.4350 - val_accuracy: 0.8504\n",
            "Epoch 24/100\n",
            "240/240 [==============================] - 4s 16ms/step - loss: 0.4221 - accuracy: 0.8567 - val_loss: 0.4335 - val_accuracy: 0.8503\n",
            "Epoch 25/100\n",
            "240/240 [==============================] - 4s 16ms/step - loss: 0.4193 - accuracy: 0.8576 - val_loss: 0.4304 - val_accuracy: 0.8530\n",
            "Epoch 26/100\n",
            "240/240 [==============================] - 4s 16ms/step - loss: 0.4160 - accuracy: 0.8590 - val_loss: 0.4306 - val_accuracy: 0.8509\n",
            "Epoch 27/100\n",
            "240/240 [==============================] - 4s 16ms/step - loss: 0.4135 - accuracy: 0.8599 - val_loss: 0.4245 - val_accuracy: 0.8539\n",
            "Epoch 28/100\n",
            "240/240 [==============================] - 4s 16ms/step - loss: 0.4107 - accuracy: 0.8599 - val_loss: 0.4235 - val_accuracy: 0.8526\n",
            "Epoch 29/100\n",
            "240/240 [==============================] - 4s 16ms/step - loss: 0.4081 - accuracy: 0.8610 - val_loss: 0.4257 - val_accuracy: 0.8517\n",
            "Epoch 30/100\n",
            "240/240 [==============================] - 4s 16ms/step - loss: 0.4058 - accuracy: 0.8621 - val_loss: 0.4192 - val_accuracy: 0.8568\n",
            "Epoch 31/100\n",
            "240/240 [==============================] - 4s 16ms/step - loss: 0.4035 - accuracy: 0.8634 - val_loss: 0.4166 - val_accuracy: 0.8552\n",
            "Epoch 32/100\n",
            "240/240 [==============================] - 4s 16ms/step - loss: 0.4011 - accuracy: 0.8639 - val_loss: 0.4144 - val_accuracy: 0.8577\n",
            "Epoch 33/100\n",
            "240/240 [==============================] - 4s 16ms/step - loss: 0.3990 - accuracy: 0.8636 - val_loss: 0.4140 - val_accuracy: 0.8556\n",
            "Epoch 34/100\n",
            "240/240 [==============================] - 4s 16ms/step - loss: 0.3963 - accuracy: 0.8642 - val_loss: 0.4110 - val_accuracy: 0.8588\n",
            "Epoch 35/100\n",
            "240/240 [==============================] - 4s 17ms/step - loss: 0.3944 - accuracy: 0.8659 - val_loss: 0.4097 - val_accuracy: 0.8572\n",
            "Epoch 36/100\n",
            "240/240 [==============================] - 4s 16ms/step - loss: 0.3922 - accuracy: 0.8665 - val_loss: 0.4080 - val_accuracy: 0.8605\n",
            "Epoch 37/100\n",
            "240/240 [==============================] - 4s 16ms/step - loss: 0.3904 - accuracy: 0.8676 - val_loss: 0.4056 - val_accuracy: 0.8591\n",
            "Epoch 38/100\n",
            "240/240 [==============================] - 4s 16ms/step - loss: 0.3885 - accuracy: 0.8673 - val_loss: 0.4066 - val_accuracy: 0.8592\n",
            "Epoch 39/100\n",
            "240/240 [==============================] - 4s 16ms/step - loss: 0.3865 - accuracy: 0.8678 - val_loss: 0.4039 - val_accuracy: 0.8622\n",
            "Epoch 40/100\n",
            "240/240 [==============================] - 4s 16ms/step - loss: 0.3850 - accuracy: 0.8690 - val_loss: 0.4038 - val_accuracy: 0.8623\n",
            "Epoch 41/100\n",
            "240/240 [==============================] - 4s 16ms/step - loss: 0.3828 - accuracy: 0.8690 - val_loss: 0.4032 - val_accuracy: 0.8599\n",
            "Epoch 42/100\n",
            "240/240 [==============================] - 4s 16ms/step - loss: 0.3812 - accuracy: 0.8705 - val_loss: 0.4018 - val_accuracy: 0.8604\n",
            "Epoch 43/100\n",
            "240/240 [==============================] - 4s 16ms/step - loss: 0.3797 - accuracy: 0.8704 - val_loss: 0.3981 - val_accuracy: 0.8650\n",
            "Epoch 44/100\n",
            "240/240 [==============================] - 4s 16ms/step - loss: 0.3780 - accuracy: 0.8715 - val_loss: 0.3981 - val_accuracy: 0.8619\n",
            "Epoch 45/100\n",
            "240/240 [==============================] - 4s 16ms/step - loss: 0.3768 - accuracy: 0.8719 - val_loss: 0.3965 - val_accuracy: 0.8648\n",
            "Epoch 46/100\n",
            "240/240 [==============================] - 4s 16ms/step - loss: 0.3749 - accuracy: 0.8724 - val_loss: 0.3954 - val_accuracy: 0.8633\n",
            "Epoch 47/100\n",
            "240/240 [==============================] - 4s 16ms/step - loss: 0.3731 - accuracy: 0.8727 - val_loss: 0.3932 - val_accuracy: 0.8646\n",
            "Epoch 48/100\n",
            "240/240 [==============================] - 4s 16ms/step - loss: 0.3716 - accuracy: 0.8728 - val_loss: 0.3918 - val_accuracy: 0.8648\n",
            "Epoch 49/100\n",
            "240/240 [==============================] - 4s 16ms/step - loss: 0.3703 - accuracy: 0.8730 - val_loss: 0.3938 - val_accuracy: 0.8637\n",
            "Epoch 50/100\n",
            "240/240 [==============================] - 4s 16ms/step - loss: 0.3687 - accuracy: 0.8743 - val_loss: 0.3920 - val_accuracy: 0.8644\n",
            "Epoch 51/100\n",
            "240/240 [==============================] - 4s 16ms/step - loss: 0.3673 - accuracy: 0.8745 - val_loss: 0.3909 - val_accuracy: 0.8652\n",
            "Epoch 52/100\n",
            "240/240 [==============================] - 4s 16ms/step - loss: 0.3659 - accuracy: 0.8751 - val_loss: 0.3874 - val_accuracy: 0.8669\n",
            "Epoch 53/100\n",
            "240/240 [==============================] - 4s 16ms/step - loss: 0.3643 - accuracy: 0.8762 - val_loss: 0.3872 - val_accuracy: 0.8665\n",
            "Epoch 54/100\n",
            "240/240 [==============================] - 4s 16ms/step - loss: 0.3631 - accuracy: 0.8754 - val_loss: 0.3883 - val_accuracy: 0.8650\n",
            "Epoch 55/100\n",
            "240/240 [==============================] - 4s 16ms/step - loss: 0.3615 - accuracy: 0.8763 - val_loss: 0.3844 - val_accuracy: 0.8670\n",
            "Epoch 56/100\n",
            "240/240 [==============================] - 4s 16ms/step - loss: 0.3605 - accuracy: 0.8761 - val_loss: 0.3841 - val_accuracy: 0.8673\n",
            "Epoch 57/100\n",
            "240/240 [==============================] - 4s 16ms/step - loss: 0.3599 - accuracy: 0.8772 - val_loss: 0.3834 - val_accuracy: 0.8683\n",
            "Epoch 58/100\n",
            "240/240 [==============================] - 4s 16ms/step - loss: 0.3577 - accuracy: 0.8779 - val_loss: 0.3826 - val_accuracy: 0.8671\n",
            "Epoch 59/100\n",
            "240/240 [==============================] - 4s 16ms/step - loss: 0.3566 - accuracy: 0.8782 - val_loss: 0.3813 - val_accuracy: 0.8681\n",
            "Epoch 60/100\n",
            "240/240 [==============================] - 4s 16ms/step - loss: 0.3553 - accuracy: 0.8782 - val_loss: 0.3799 - val_accuracy: 0.8673\n",
            "Epoch 61/100\n",
            "240/240 [==============================] - 4s 16ms/step - loss: 0.3544 - accuracy: 0.8789 - val_loss: 0.3789 - val_accuracy: 0.8681\n",
            "Epoch 62/100\n",
            "240/240 [==============================] - 4s 16ms/step - loss: 0.3532 - accuracy: 0.8789 - val_loss: 0.3817 - val_accuracy: 0.8684\n",
            "Epoch 63/100\n",
            "240/240 [==============================] - 4s 16ms/step - loss: 0.3518 - accuracy: 0.8793 - val_loss: 0.3880 - val_accuracy: 0.8656\n",
            "Epoch 64/100\n",
            "240/240 [==============================] - 4s 16ms/step - loss: 0.3509 - accuracy: 0.8791 - val_loss: 0.3807 - val_accuracy: 0.8670\n",
            "Epoch 65/100\n",
            "240/240 [==============================] - 4s 16ms/step - loss: 0.3493 - accuracy: 0.8803 - val_loss: 0.3779 - val_accuracy: 0.8677\n",
            "Epoch 66/100\n",
            "240/240 [==============================] - 4s 16ms/step - loss: 0.3484 - accuracy: 0.8805 - val_loss: 0.3760 - val_accuracy: 0.8686\n",
            "Epoch 67/100\n",
            "240/240 [==============================] - 4s 16ms/step - loss: 0.3475 - accuracy: 0.8807 - val_loss: 0.3755 - val_accuracy: 0.8693\n",
            "Epoch 68/100\n",
            "240/240 [==============================] - 4s 16ms/step - loss: 0.3463 - accuracy: 0.8812 - val_loss: 0.3768 - val_accuracy: 0.8691\n",
            "Epoch 69/100\n",
            "240/240 [==============================] - 4s 16ms/step - loss: 0.3453 - accuracy: 0.8814 - val_loss: 0.3745 - val_accuracy: 0.8697\n",
            "Epoch 70/100\n",
            "240/240 [==============================] - 4s 17ms/step - loss: 0.3439 - accuracy: 0.8817 - val_loss: 0.3728 - val_accuracy: 0.8699\n",
            "Epoch 71/100\n",
            "240/240 [==============================] - 4s 17ms/step - loss: 0.3433 - accuracy: 0.8818 - val_loss: 0.3722 - val_accuracy: 0.8698\n",
            "Epoch 72/100\n",
            "240/240 [==============================] - 4s 16ms/step - loss: 0.3423 - accuracy: 0.8824 - val_loss: 0.3721 - val_accuracy: 0.8696\n",
            "Epoch 73/100\n",
            "240/240 [==============================] - 4s 16ms/step - loss: 0.3412 - accuracy: 0.8832 - val_loss: 0.3699 - val_accuracy: 0.8721\n",
            "Epoch 74/100\n",
            "240/240 [==============================] - 4s 16ms/step - loss: 0.3398 - accuracy: 0.8831 - val_loss: 0.3726 - val_accuracy: 0.8694\n",
            "Epoch 75/100\n",
            "240/240 [==============================] - 4s 16ms/step - loss: 0.3394 - accuracy: 0.8836 - val_loss: 0.3695 - val_accuracy: 0.8702\n",
            "Epoch 76/100\n",
            "240/240 [==============================] - 4s 16ms/step - loss: 0.3379 - accuracy: 0.8833 - val_loss: 0.3713 - val_accuracy: 0.8707\n",
            "Epoch 77/100\n",
            "240/240 [==============================] - 4s 16ms/step - loss: 0.3366 - accuracy: 0.8846 - val_loss: 0.3699 - val_accuracy: 0.8716\n",
            "Epoch 78/100\n",
            "240/240 [==============================] - 4s 16ms/step - loss: 0.3361 - accuracy: 0.8835 - val_loss: 0.3685 - val_accuracy: 0.8727\n",
            "Epoch 79/100\n",
            "240/240 [==============================] - 4s 16ms/step - loss: 0.3348 - accuracy: 0.8838 - val_loss: 0.3682 - val_accuracy: 0.8733\n",
            "Epoch 80/100\n",
            "240/240 [==============================] - 4s 16ms/step - loss: 0.3346 - accuracy: 0.8840 - val_loss: 0.3694 - val_accuracy: 0.8730\n",
            "Epoch 81/100\n",
            "240/240 [==============================] - 4s 16ms/step - loss: 0.3328 - accuracy: 0.8859 - val_loss: 0.3670 - val_accuracy: 0.8720\n",
            "Epoch 82/100\n",
            "240/240 [==============================] - 4s 16ms/step - loss: 0.3321 - accuracy: 0.8852 - val_loss: 0.3645 - val_accuracy: 0.8734\n",
            "Epoch 83/100\n",
            "240/240 [==============================] - 4s 16ms/step - loss: 0.3313 - accuracy: 0.8858 - val_loss: 0.3640 - val_accuracy: 0.8723\n",
            "Epoch 84/100\n",
            "240/240 [==============================] - 4s 16ms/step - loss: 0.3303 - accuracy: 0.8862 - val_loss: 0.3638 - val_accuracy: 0.8732\n",
            "Epoch 85/100\n",
            "240/240 [==============================] - 4s 16ms/step - loss: 0.3297 - accuracy: 0.8862 - val_loss: 0.3630 - val_accuracy: 0.8742\n",
            "Epoch 86/100\n",
            "240/240 [==============================] - 4s 16ms/step - loss: 0.3284 - accuracy: 0.8864 - val_loss: 0.3653 - val_accuracy: 0.8723\n",
            "Epoch 87/100\n",
            "240/240 [==============================] - 4s 16ms/step - loss: 0.3273 - accuracy: 0.8868 - val_loss: 0.3627 - val_accuracy: 0.8732\n",
            "Epoch 88/100\n",
            "240/240 [==============================] - 4s 16ms/step - loss: 0.3265 - accuracy: 0.8871 - val_loss: 0.3631 - val_accuracy: 0.8732\n",
            "Epoch 89/100\n",
            "240/240 [==============================] - 4s 16ms/step - loss: 0.3257 - accuracy: 0.8875 - val_loss: 0.3629 - val_accuracy: 0.8734\n",
            "Epoch 90/100\n",
            "240/240 [==============================] - 4s 16ms/step - loss: 0.3248 - accuracy: 0.8874 - val_loss: 0.3620 - val_accuracy: 0.8748\n",
            "Epoch 91/100\n",
            "240/240 [==============================] - 4s 16ms/step - loss: 0.3241 - accuracy: 0.8883 - val_loss: 0.3599 - val_accuracy: 0.8757\n",
            "Epoch 92/100\n",
            "240/240 [==============================] - 4s 16ms/step - loss: 0.3227 - accuracy: 0.8883 - val_loss: 0.3596 - val_accuracy: 0.8749\n",
            "Epoch 93/100\n",
            "240/240 [==============================] - 4s 16ms/step - loss: 0.3222 - accuracy: 0.8886 - val_loss: 0.3598 - val_accuracy: 0.8741\n",
            "Epoch 94/100\n",
            "240/240 [==============================] - 4s 16ms/step - loss: 0.3217 - accuracy: 0.8880 - val_loss: 0.3605 - val_accuracy: 0.8747\n",
            "Epoch 95/100\n",
            "240/240 [==============================] - 4s 16ms/step - loss: 0.3208 - accuracy: 0.8896 - val_loss: 0.3578 - val_accuracy: 0.8755\n",
            "Epoch 96/100\n",
            "240/240 [==============================] - 4s 16ms/step - loss: 0.3193 - accuracy: 0.8899 - val_loss: 0.3572 - val_accuracy: 0.8763\n",
            "Epoch 97/100\n",
            "240/240 [==============================] - 4s 16ms/step - loss: 0.3189 - accuracy: 0.8904 - val_loss: 0.3566 - val_accuracy: 0.8763\n",
            "Epoch 98/100\n",
            "240/240 [==============================] - 4s 16ms/step - loss: 0.3184 - accuracy: 0.8895 - val_loss: 0.3572 - val_accuracy: 0.8753\n",
            "Epoch 99/100\n",
            "240/240 [==============================] - 4s 16ms/step - loss: 0.3171 - accuracy: 0.8905 - val_loss: 0.3566 - val_accuracy: 0.8745\n",
            "Epoch 100/100\n",
            "240/240 [==============================] - 4s 16ms/step - loss: 0.3162 - accuracy: 0.8903 - val_loss: 0.3596 - val_accuracy: 0.8747\n"
          ],
          "name": "stdout"
        }
      ]
    },
    {
      "cell_type": "code",
      "metadata": {
        "id": "Xg6ynBMR_PzK",
        "colab_type": "code",
        "colab": {}
      },
      "source": [
        "model.save('fashion_mnist_dense.h5')"
      ],
      "execution_count": 0,
      "outputs": []
    },
    {
      "cell_type": "code",
      "metadata": {
        "id": "b6OEaejaA58_",
        "colab_type": "code",
        "outputId": "c49aa4c7-01bc-4016-9ec3-ed6db849e59a",
        "colab": {
          "base_uri": "https://localhost:8080/",
          "height": 34
        }
      },
      "source": [
        "scores = model.evaluate(x_test, y_test, verbose=1)"
      ],
      "execution_count": 0,
      "outputs": [
        {
          "output_type": "stream",
          "text": [
            "313/313 [==============================] - 1s 3ms/step - loss: 0.3795 - accuracy: 0.8642\n"
          ],
          "name": "stdout"
        }
      ]
    },
    {
      "cell_type": "code",
      "metadata": {
        "id": "B-GB7OccA8km",
        "colab_type": "code",
        "outputId": "09c71546-05f5-41bf-b675-f8848994cbd3",
        "colab": {
          "base_uri": "https://localhost:8080/",
          "height": 34
        }
      },
      "source": [
        "print(\"Доля верных ответов на тестовых данных, в процентах:\", round(scores[1] * 100, 4))"
      ],
      "execution_count": 0,
      "outputs": [
        {
          "output_type": "stream",
          "text": [
            "Доля верных ответов на тестовых данных, в процентах: 86.42\n"
          ],
          "name": "stdout"
        }
      ]
    },
    {
      "cell_type": "code",
      "metadata": {
        "id": "-iWQ62AOBAwf",
        "colab_type": "code",
        "colab": {}
      },
      "source": [
        "n_rec = 496"
      ],
      "execution_count": 0,
      "outputs": []
    },
    {
      "cell_type": "code",
      "metadata": {
        "id": "eoOcv889BEPy",
        "colab_type": "code",
        "outputId": "ab037a6e-b6b5-4162-8be9-9cbfd58a4759",
        "colab": {
          "base_uri": "https://localhost:8080/",
          "height": 265
        }
      },
      "source": [
        "plt.imshow(x_test[n_rec].reshape(28, 28), cmap=plt.cm.binary)\n",
        "plt.show()"
      ],
      "execution_count": 0,
      "outputs": [
        {
          "output_type": "display_data",
          "data": {
            "image/png": "[encoded data removed]",
            "text/plain": [
              "<Figure size 432x288 with 1 Axes>"
            ]
          },
          "metadata": {
            "tags": [],
            "needs_background": "light"
          }
        }
      ]
    },
    {
      "cell_type": "code",
      "metadata": {
        "id": "CfKCRorGBHwb",
        "colab_type": "code",
        "colab": {}
      },
      "source": [
        "x = x_test[n_rec]\n",
        "x = np.expand_dims(x, axis=0)"
      ],
      "execution_count": 0,
      "outputs": []
    },
    {
      "cell_type": "code",
      "metadata": {
        "id": "-hW5S9XHBJ2Y",
        "colab_type": "code",
        "colab": {}
      },
      "source": [
        "prediction = model.predict(x)"
      ],
      "execution_count": 0,
      "outputs": []
    },
    {
      "cell_type": "code",
      "metadata": {
        "id": "aMxmnxCQBMHM",
        "colab_type": "code",
        "outputId": "13ffd7c8-3e93-4dd5-fc2a-4b9ca3db4022",
        "colab": {
          "base_uri": "https://localhost:8080/",
          "height": 68
        }
      },
      "source": [
        "prediction"
      ],
      "execution_count": 0,
      "outputs": [
        {
          "output_type": "execute_result",
          "data": {
            "text/plain": [
              "array([[4.2530577e-05, 9.9983048e-01, 6.7246633e-06, 1.1047331e-04,\n",
              "        8.0777181e-06, 3.8574690e-09, 6.1505835e-07, 7.0247928e-08,\n",
              "        1.0330953e-06, 3.7299692e-09]], dtype=float32)"
            ]
          },
          "metadata": {
            "tags": []
          },
          "execution_count": 29
        }
      ]
    },
    {
      "cell_type": "code",
      "metadata": {
        "id": "sOIfH9-KBOQs",
        "colab_type": "code",
        "outputId": "236e7396-4d9e-459e-a16a-9c74ebe1e1b8",
        "colab": {
          "base_uri": "https://localhost:8080/",
          "height": 51
        }
      },
      "source": [
        "prediction = np.argmax(prediction[0])\n",
        "print(\"Номер класса:\", prediction)\n",
        "print(\"Название класса:\", classes[prediction])"
      ],
      "execution_count": 0,
      "outputs": [
        {
          "output_type": "stream",
          "text": [
            "Номер класса: 1\n",
            "Название класса: классические брюки\n"
          ],
          "name": "stdout"
        }
      ]
    },
    {
      "cell_type": "code",
      "metadata": {
        "id": "i4tQFKjHBTsj",
        "colab_type": "code",
        "outputId": "4d7ba8ac-d3ef-4e89-c4d5-8dffb0fa53af",
        "colab": {
          "resources": {
            "http://localhost:8080/nbextensions/google.colab/files.js": {
              "data": "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",
              "ok": true,
              "headers": [
                [
                  "content-type",
                  "application/javascript"
                ]
              ],
              "status": 200,
              "status_text": ""
            }
          },
          "base_uri": "https://localhost:8080/",
          "height": 329
        }
      },
      "source": [
        "files.upload()"
      ],
      "execution_count": 0,
      "outputs": [
        {
          "output_type": "display_data",
          "data": {
            "text/html": [
              "\n",
              "     <input type=\"file\" id=\"files-7540d37b-16ba-4cf0-8409-c4f24e73809f\" name=\"files[]\" multiple disabled />\n",
              "     <output id=\"result-7540d37b-16ba-4cf0-8409-c4f24e73809f\">\n",
              "      Upload widget is only available when the cell has been executed in the\n",
              "      current browser session. Please rerun this cell to enable.\n",
              "      </output>\n",
              "      <script src=\"/nbextensions/google.colab/files.js\"></script> "
            ],
            "text/plain": [
              "<IPython.core.display.HTML object>"
            ]
          },
          "metadata": {
            "tags": []
          }
        },
        {
          "output_type": "error",
          "ename": "KeyboardInterrupt",
          "evalue": "ignored",
          "traceback": [
            "\u001b[0;31m---------------------------------------------------------------------------\u001b[0m",
            "\u001b[0;31mKeyboardInterrupt\u001b[0m                         Traceback (most recent call last)",
            "\u001b[0;32m<ipython-input-32-63b259460c61>\u001b[0m in \u001b[0;36m<module>\u001b[0;34m()\u001b[0m\n\u001b[0;32m----> 1\u001b[0;31m \u001b[0mfiles\u001b[0m\u001b[0;34m.\u001b[0m\u001b[0mupload\u001b[0m\u001b[0;34m(\u001b[0m\u001b[0;34m)\u001b[0m\u001b[0;34m\u001b[0m\u001b[0;34m\u001b[0m\u001b[0m\n\u001b[0m",
            "\u001b[0;32m/usr/local/lib/python3.6/dist-packages/google/colab/files.py\u001b[0m in \u001b[0;36mupload\u001b[0;34m()\u001b[0m\n\u001b[1;32m     62\u001b[0m   result = _output.eval_js(\n\u001b[1;32m     63\u001b[0m       'google.colab._files._uploadFiles(\"{input_id}\", \"{output_id}\")'.format(\n\u001b[0;32m---> 64\u001b[0;31m           input_id=input_id, output_id=output_id))\n\u001b[0m\u001b[1;32m     65\u001b[0m   \u001b[0mfiles\u001b[0m \u001b[0;34m=\u001b[0m \u001b[0m_collections\u001b[0m\u001b[0;34m.\u001b[0m\u001b[0mdefaultdict\u001b[0m\u001b[0;34m(\u001b[0m\u001b[0m_six\u001b[0m\u001b[0;34m.\u001b[0m\u001b[0mbinary_type\u001b[0m\u001b[0;34m)\u001b[0m\u001b[0;34m\u001b[0m\u001b[0;34m\u001b[0m\u001b[0m\n\u001b[1;32m     66\u001b[0m   \u001b[0;31m# Mapping from original filename to filename as saved locally.\u001b[0m\u001b[0;34m\u001b[0m\u001b[0;34m\u001b[0m\u001b[0;34m\u001b[0m\u001b[0m\n",
            "\u001b[0;32m/usr/local/lib/python3.6/dist-packages/google/colab/output/_js.py\u001b[0m in \u001b[0;36meval_js\u001b[0;34m(script, ignore_result)\u001b[0m\n\u001b[1;32m     37\u001b[0m   \u001b[0;32mif\u001b[0m \u001b[0mignore_result\u001b[0m\u001b[0;34m:\u001b[0m\u001b[0;34m\u001b[0m\u001b[0;34m\u001b[0m\u001b[0m\n\u001b[1;32m     38\u001b[0m     \u001b[0;32mreturn\u001b[0m\u001b[0;34m\u001b[0m\u001b[0;34m\u001b[0m\u001b[0m\n\u001b[0;32m---> 39\u001b[0;31m   \u001b[0;32mreturn\u001b[0m \u001b[0m_message\u001b[0m\u001b[0;34m.\u001b[0m\u001b[0mread_reply_from_input\u001b[0m\u001b[0;34m(\u001b[0m\u001b[0mrequest_id\u001b[0m\u001b[0;34m)\u001b[0m\u001b[0;34m\u001b[0m\u001b[0;34m\u001b[0m\u001b[0m\n\u001b[0m\u001b[1;32m     40\u001b[0m \u001b[0;34m\u001b[0m\u001b[0m\n\u001b[1;32m     41\u001b[0m \u001b[0;34m\u001b[0m\u001b[0m\n",
            "\u001b[0;32m/usr/local/lib/python3.6/dist-packages/google/colab/_message.py\u001b[0m in \u001b[0;36mread_reply_from_input\u001b[0;34m(message_id, timeout_sec)\u001b[0m\n\u001b[1;32m     99\u001b[0m     \u001b[0mreply\u001b[0m \u001b[0;34m=\u001b[0m \u001b[0m_read_next_input_message\u001b[0m\u001b[0;34m(\u001b[0m\u001b[0;34m)\u001b[0m\u001b[0;34m\u001b[0m\u001b[0;34m\u001b[0m\u001b[0m\n\u001b[1;32m    100\u001b[0m     \u001b[0;32mif\u001b[0m \u001b[0mreply\u001b[0m \u001b[0;34m==\u001b[0m \u001b[0m_NOT_READY\u001b[0m \u001b[0;32mor\u001b[0m \u001b[0;32mnot\u001b[0m \u001b[0misinstance\u001b[0m\u001b[0;34m(\u001b[0m\u001b[0mreply\u001b[0m\u001b[0;34m,\u001b[0m \u001b[0mdict\u001b[0m\u001b[0;34m)\u001b[0m\u001b[0;34m:\u001b[0m\u001b[0;34m\u001b[0m\u001b[0;34m\u001b[0m\u001b[0m\n\u001b[0;32m--> 101\u001b[0;31m       \u001b[0mtime\u001b[0m\u001b[0;34m.\u001b[0m\u001b[0msleep\u001b[0m\u001b[0;34m(\u001b[0m\u001b[0;36m0.025\u001b[0m\u001b[0;34m)\u001b[0m\u001b[0;34m\u001b[0m\u001b[0;34m\u001b[0m\u001b[0m\n\u001b[0m\u001b[1;32m    102\u001b[0m       \u001b[0;32mcontinue\u001b[0m\u001b[0;34m\u001b[0m\u001b[0;34m\u001b[0m\u001b[0m\n\u001b[1;32m    103\u001b[0m     if (reply.get('type') == 'colab_reply' and\n",
            "\u001b[0;31mKeyboardInterrupt\u001b[0m: "
          ]
        }
      ]
    },
    {
      "cell_type": "code",
      "metadata": {
        "id": "upvM8IHYBdOw",
        "colab_type": "code",
        "outputId": "b587c976-929c-4d13-b66d-32168407f18d",
        "colab": {
          "base_uri": "https://localhost:8080/",
          "height": 34
        }
      },
      "source": [
        "!ls"
      ],
      "execution_count": 0,
      "outputs": [
        {
          "output_type": "stream",
          "text": [
            "fashion_mnist_dense.h5\tsample_data\n"
          ],
          "name": "stdout"
        }
      ]
    },
    {
      "cell_type": "code",
      "metadata": {
        "id": "5pNTXzq3Bl1-",
        "colab_type": "code",
        "colab": {}
      },
      "source": [
        "img_path = 'tshirt.jpg'\n",
        "img = image.load_img(img_path, target_size=(28, 28), color_mode = \"grayscale\")"
      ],
      "execution_count": 0,
      "outputs": []
    },
    {
      "cell_type": "code",
      "metadata": {
        "id": "Y5bMwoe1Bm0E",
        "colab_type": "code",
        "colab": {}
      },
      "source": [
        "plt.imshow(img.convert('RGBA'))\n",
        "plt.show()"
      ],
      "execution_count": 0,
      "outputs": []
    },
    {
      "cell_type": "code",
      "metadata": {
        "id": "wyesv0H7Boqe",
        "colab_type": "code",
        "colab": {}
      },
      "source": [
        "# Преобразуем картинку в массив\n",
        "x = image.img_to_array(img)\n",
        "# Меняем форму массива в плоский вектор\n",
        "x = x.reshape(1, 784)\n",
        "# Инвертируем изображение\n",
        "x = 255 - x\n",
        "# Нормализуем изображение\n",
        "x /= 255"
      ],
      "execution_count": 0,
      "outputs": []
    },
    {
      "cell_type": "code",
      "metadata": {
        "id": "irH3Rs1uBqyM",
        "colab_type": "code",
        "colab": {}
      },
      "source": [
        "prediction = model.predict(x)"
      ],
      "execution_count": 0,
      "outputs": []
    },
    {
      "cell_type": "code",
      "metadata": {
        "id": "FRkl49ojBstl",
        "colab_type": "code",
        "colab": {}
      },
      "source": [
        "prediction"
      ],
      "execution_count": 0,
      "outputs": []
    },
    {
      "cell_type": "code",
      "metadata": {
        "id": "uJVU4C8mBu5k",
        "colab_type": "code",
        "colab": {}
      },
      "source": [
        "prediction = np.argmax(prediction)\n",
        "print(\"Номер класса:\", prediction)\n",
        "print(\"Название класса:\", classes[prediction])"
      ],
      "execution_count": 0,
      "outputs": []
    }
  ]
}